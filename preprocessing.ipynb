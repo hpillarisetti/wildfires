{
 "cells": [
  {
   "cell_type": "markdown",
   "metadata": {},
   "source": [
    "# Preprocessing"
   ]
  },
  {
   "cell_type": "code",
   "execution_count": 1,
   "metadata": {},
   "outputs": [],
   "source": [
    "import geopandas as gpd\n",
    "import glob\n",
    "import os\n",
    "from bisect import bisect_left, bisect_right\n",
    "from os import listdir\n",
    "from os.path import isfile, join\n",
    "from datetime import datetime, timedelta\n",
    "from dateutil.relativedelta import relativedelta\n",
    "from rasterio.mask import mask\n",
    "import rasterio\n",
    "from fiona.crs import from_epsg\n",
    "from shapely.geometry import box\n",
    "from pyproj import Transformer\n",
    "import pycrs\n",
    "import numpy as np\n",
    "import matplotlib.pyplot as plt\n",
    "import random\n",
    "from matplotlib import cm"
   ]
  },
  {
   "cell_type": "code",
   "execution_count": 2,
   "metadata": {},
   "outputs": [],
   "source": [
    "def getFeatures(gdf):\n",
    "    \"\"\"Function to parse features from GeoDataFrame in such a manner that rasterio wants them\"\"\"\n",
    "    import json\n",
    "    return [json.loads(gdf.to_json())['features'][0]['geometry']]"
   ]
  },
  {
   "cell_type": "code",
   "execution_count": 3,
   "metadata": {},
   "outputs": [],
   "source": [
    "# import points\n",
    "points_fire = gpd.read_file('../data/GIS/points_fire_sample.shp')\n",
    "points_nofire = gpd.read_file('../data/GIS/points_nofire_sample.shp')"
   ]
  },
  {
   "cell_type": "code",
   "execution_count": 4,
   "metadata": {},
   "outputs": [],
   "source": [
    "# import moisture maps\n",
    "path = '../lfmc'\n",
    "filenames = [f for f in listdir(path) if isfile(join(path, f)) and f.endswith('.tif')]\n",
    "\n",
    "# get dates of map\n",
    "dates = [f.split(\"map_\")[1].split(\".tif\")[0] for f in filenames]\n",
    "dates = [datetime.strptime(date_string, \"%Y-%m-%d\").date() for date_string in dates]\n",
    "dates = sorted(dates)"
   ]
  },
  {
   "cell_type": "markdown",
   "metadata": {},
   "source": [
    "### Fire Tiles"
   ]
  },
  {
   "cell_type": "code",
   "execution_count": null,
   "metadata": {
    "jupyter": {
     "outputs_hidden": true
    }
   },
   "outputs": [],
   "source": [
    "out_path = \"../data/fire\"\n",
    "\n",
    "for i in range(len(points_fire)):\n",
    "    \n",
    "    # get fire date\n",
    "    fire_date = points_fire['IgntDate'].iloc[i]\n",
    "    fire_date = datetime.strptime(fire_date, \"%Y-%m-%d\").date()\n",
    "#     print(fire_date)\n",
    "    \n",
    "    # get closest map to fire date\n",
    "    nearest_date = dates[:bisect_left(dates, fire_date)][-1]\n",
    "    nearest_date = nearest_date.strftime('%Y-%m-%d')\n",
    "    \n",
    "    # get file corresponding to nearest date\n",
    "    file = \"lfmc_map_{}.tif\".format(nearest_date)\n",
    "    \n",
    "    # Input raster\n",
    "    fp = os.path.join(path, file)\n",
    "\n",
    "    # Read the data\n",
    "    data = rasterio.open(fp)\n",
    "    \n",
    "    # Crop image to have coordinate in center\n",
    "    x_center = points_fire['geometry'].iloc[i].x\n",
    "    y_center = points_fire['geometry'].iloc[i].y\n",
    "\n",
    "    transformer = Transformer.from_crs(\"epsg:3857\", \"epsg:4326\")\n",
    "    x_center, y_center = transformer.transform(x_center,y_center)\n",
    "\n",
    "    xmin = x_center - 16 * data.transform[4] # pixel size\n",
    "    xmax = x_center + 15 * data.transform[4]\n",
    "    ymin = y_center - 16 * (-data.transform[0])\n",
    "    ymax = y_center + 15 * (-data.transform[0])\n",
    "    \n",
    "    # create bounding box\n",
    "    bbox = box(ymin, xmin, ymax, xmax)\n",
    "    geo = gpd.GeoDataFrame({'geometry': bbox}, index=[0], crs=from_epsg(4326))\n",
    "    geo = geo.to_crs(crs = data.crs.data)\n",
    "    \n",
    "    coords = getFeatures(geo)\n",
    "    \n",
    "    # Save cropped image\n",
    "    out_tif = os.path.join(out_path, 'fire_{}.tif'.format(i))\n",
    "    ## print(out_tif)\n",
    "    \n",
    "    # Clip the raster with Polygon\n",
    "    out_img, out_transform = mask(dataset=data, shapes=coords, crop=True)\n",
    "\n",
    "    # copy the metadata\n",
    "    out_meta = data.meta.copy()\n",
    "    epsg_code = int(data.crs.data['init'][5:])\n",
    "    out_meta.update({\"driver\": \"GTiff\",\n",
    "                     \"height\": out_img.shape[1],\n",
    "                     \"width\": out_img.shape[2],\n",
    "                     \"transform\": out_transform,\n",
    "                     \"crs\": pycrs.parse.from_epsg_code(epsg_code).to_proj4()})\n",
    "    \n",
    "    with rasterio.open(out_tif, \"w\", **out_meta) as dest:\n",
    "        dest.write(out_img)\n",
    "#     print(' Tile {} out of {}'.format(i, len(points_fire)))"
   ]
  },
  {
   "cell_type": "code",
   "execution_count": 6,
   "metadata": {},
   "outputs": [
    {
     "name": "stdout",
     "output_type": "stream",
     "text": [
      "vdbg0\n",
      "vdbg1\n",
      "vdbg2\n"
     ]
    },
    {
     "data": {
      "image/png": "[encoded data removed]",
      "text/plain": [
       "<Figure size 720x288 with 11 Axes>"
      ]
     },
     "metadata": {
      "needs_background": "light"
     },
     "output_type": "display_data"
    }
   ],
   "source": [
    "# Visualize some images\n",
    "out_path = \"../data/fire\"\n",
    "images = [f for f in listdir(out_path) if isfile(join(out_path, f)) and f.endswith('.tif')]\n",
    "\n",
    "fig = plt.figure(figsize = (10,4))\n",
    "\n",
    "print (\"vdbg0\")\n",
    "\n",
    "for i in range(10):\n",
    "    idx = random.randint(0, len(images))\n",
    "    plt.subplot(2,5,i+1)\n",
    "    src = rasterio.open(os.path.join(out_path, images[idx]))\n",
    "    plt.imshow(src.read(1), cmap = cm.RdYlGn)\n",
    "    plt.axis('off')\n",
    "\n",
    "print (\"vdbg1\")\n",
    "\n",
    "# plt.subplots_adjust(bottom=0.1, right=0.5, top=0.6)\n",
    "fig.tight_layout()\n",
    "cax = plt.axes([1.0, 0.1, 0.03, 0.8])\n",
    "plt.colorbar(cax=cax)\n",
    "print (\"vdbg2\")\n",
    "plt.show()"
   ]
  },
  {
   "cell_type": "markdown",
   "metadata": {},
   "source": [
    "### Non-Fire Tiles"
   ]
  },
  {
   "cell_type": "code",
   "execution_count": null,
   "metadata": {
    "jupyter": {
     "outputs_hidden": true
    }
   },
   "outputs": [],
   "source": [
    "out_path = \"../data/nofire\"\n",
    "\n",
    "# for i in range(len(points_fire)):\n",
    "for i in range(800):\n",
    "    \n",
    "    # get fire date\n",
    "    idx = random.randint(0, len(points_fire)-1)\n",
    "    fire_date = points_fire['IgntDate'].iloc[idx]\n",
    "    fire_date = datetime.strptime(fire_date, \"%Y-%m-%d\").date()\n",
    "    \n",
    "    # get range not within 1 year of fire (6 months before and 6 months after)\n",
    "    prev_6 = fire_date + relativedelta(months = -6)\n",
    "    next_6 = fire_date + relativedelta(months = +6)\n",
    "    date_range = dates[:bisect_left(dates, prev_6)]\n",
    "    date_range.extend(dates[bisect_right(dates, next_6):])\n",
    "    \n",
    "    # get random date in date_range\n",
    "    rnd_ind = random.randint(0, len(date_range)-1)\n",
    "    chosen_date = date_range[rnd_ind].strftime('%Y-%m-%d')\n",
    "    \n",
    "    # get file corresponding to nearest date\n",
    "    file = \"lfmc_map_{}.tif\".format(chosen_date)\n",
    "    \n",
    "    # Input raster\n",
    "    fp = os.path.join(path, file)\n",
    "\n",
    "    # Read the data\n",
    "    data = rasterio.open(fp)\n",
    "    \n",
    "    # Crop image to have coordinate in center\n",
    "    x_center = points_fire['geometry'].iloc[idx].x\n",
    "    y_center = points_fire['geometry'].iloc[idx].y\n",
    "\n",
    "    transformer = Transformer.from_crs(\"epsg:3857\", \"epsg:4326\")\n",
    "    x_center, y_center = transformer.transform(x_center,y_center)\n",
    "\n",
    "    xmin = x_center - 16 * data.transform[4] # pixel size\n",
    "    xmax = x_center + 15 * data.transform[4]\n",
    "    ymin = y_center - 16 * (-data.transform[0])\n",
    "    ymax = y_center + 15 * (-data.transform[0])\n",
    "    \n",
    "    # create bounding box\n",
    "    bbox = box(ymin, xmin, ymax, xmax)\n",
    "    geo = gpd.GeoDataFrame({'geometry': bbox}, index=[0], crs=from_epsg(4326))\n",
    "    geo = geo.to_crs(crs = data.crs.data)\n",
    "    \n",
    "    coords = getFeatures(geo)\n",
    "    \n",
    "    # Save cropped image\n",
    "    out_tif = os.path.join(out_path, 'nofire_{}.tif'.format(i))\n",
    "    ## print(out_tif)\n",
    "    \n",
    "    # Clip the raster with Polygon\n",
    "    out_img, out_transform = mask(dataset=data, shapes=coords, crop=True)\n",
    "\n",
    "    # copy the metadata\n",
    "    out_meta = data.meta.copy()\n",
    "    epsg_code = int(data.crs.data['init'][5:])\n",
    "    out_meta.update({\"driver\": \"GTiff\",\n",
    "                     \"height\": out_img.shape[1],\n",
    "                     \"width\": out_img.shape[2],\n",
    "                     \"transform\": out_transform,\n",
    "                     \"crs\": pycrs.parse.from_epsg_code(epsg_code).to_proj4()})\n",
    "    \n",
    "    with rasterio.open(out_tif, \"w\", **out_meta) as dest:\n",
    "        dest.write(out_img)"
   ]
  },
  {
   "cell_type": "code",
   "execution_count": null,
   "metadata": {
    "jupyter": {
     "outputs_hidden": true
    }
   },
   "outputs": [],
   "source": [
    "# For non-fire points\n",
    "out_path = \"../data/nofire\"\n",
    "\n",
    "# for i in range(len(points_fire)):\n",
    "for i in range(801,1601):\n",
    "    \n",
    "    # get fire date\n",
    "    idx = random.randint(0, len(points_nofire)-1)\n",
    "    fire_date = points_fire['IgntDate'].iloc[idx]\n",
    "    fire_date = datetime.strptime(fire_date, \"%Y-%m-%d\").date()\n",
    "    \n",
    "    # get range not within 1 year of fire (6 months before and 6 months after)\n",
    "    prev_6 = fire_date + relativedelta(months = -6)\n",
    "    next_6 = fire_date + relativedelta(months = +6)\n",
    "    date_range = dates[:bisect_left(dates, prev_6)]\n",
    "    date_range.extend(dates[bisect_right(dates, next_6):])\n",
    "    \n",
    "    # get random date in date_range\n",
    "    rnd_ind = random.randint(0, len(date_range)-1)\n",
    "    chosen_date = date_range[rnd_ind].strftime('%Y-%m-%d')\n",
    "    \n",
    "    # get file corresponding to nearest date\n",
    "    file = \"lfmc_map_{}.tif\".format(chosen_date)\n",
    "    \n",
    "    # Input raster\n",
    "    fp = os.path.join(path, file)\n",
    "\n",
    "    # Read the data\n",
    "    data = rasterio.open(fp)\n",
    "    \n",
    "    # Crop image to have coordinate in center\n",
    "    x_center = points_fire['geometry'].iloc[idx].x\n",
    "    y_center = points_fire['geometry'].iloc[idx].y\n",
    "\n",
    "    transformer = Transformer.from_crs(\"epsg:3857\", \"epsg:4326\")\n",
    "    x_center, y_center = transformer.transform(x_center,y_center)\n",
    "\n",
    "    xmin = x_center - 16 * data.transform[4] # pixel size\n",
    "    xmax = x_center + 15 * data.transform[4]\n",
    "    ymin = y_center - 16 * (-data.transform[0])\n",
    "    ymax = y_center + 15 * (-data.transform[0])\n",
    "    \n",
    "    # create bounding box\n",
    "    bbox = box(ymin, xmin, ymax, xmax)\n",
    "    geo = gpd.GeoDataFrame({'geometry': bbox}, index=[0], crs=from_epsg(4326))\n",
    "    geo = geo.to_crs(crs = data.crs.data)\n",
    "    \n",
    "    coords = getFeatures(geo)\n",
    "    \n",
    "    # Save cropped image\n",
    "    out_tif = os.path.join(out_path, 'nofire_{}.tif'.format(i))\n",
    "    print(out_tif)\n",
    "    \n",
    "    # Clip the raster with Polygon\n",
    "    out_img, out_transform = mask(dataset=data, shapes=coords, crop=True)\n",
    "\n",
    "    # copy the metadata\n",
    "    out_meta = data.meta.copy()\n",
    "    epsg_code = int(data.crs.data['init'][5:])\n",
    "    out_meta.update({\"driver\": \"GTiff\",\n",
    "                     \"height\": out_img.shape[1],\n",
    "                     \"width\": out_img.shape[2],\n",
    "                     \"transform\": out_transform,\n",
    "                     \"crs\": pycrs.parse.from_epsg_code(epsg_code).to_proj4()})\n",
    "    \n",
    "    with rasterio.open(out_tif, \"w\", **out_meta) as dest:\n",
    "        dest.write(out_img)"
   ]
  },
  {
   "cell_type": "code",
   "execution_count": 1,
   "metadata": {},
   "outputs": [
    {
     "ename": "NameError",
     "evalue": "name 'listdir' is not defined",
     "output_type": "error",
     "traceback": [
      "\u001b[0;31m---------------------------------------------------------------------------\u001b[0m",
      "\u001b[0;31mNameError\u001b[0m                                 Traceback (most recent call last)",
      "\u001b[0;32m/var/folders/fn/wq493n8n30l6jf8c_l_k1p_00000gn/T/ipykernel_88564/2071738980.py\u001b[0m in \u001b[0;36m<module>\u001b[0;34m\u001b[0m\n\u001b[1;32m      1\u001b[0m \u001b[0;31m# Visualize some images\u001b[0m\u001b[0;34m\u001b[0m\u001b[0;34m\u001b[0m\u001b[0m\n\u001b[1;32m      2\u001b[0m \u001b[0mout_path\u001b[0m \u001b[0;34m=\u001b[0m \u001b[0;34m\"../data/nofire\"\u001b[0m\u001b[0;34m\u001b[0m\u001b[0;34m\u001b[0m\u001b[0m\n\u001b[0;32m----> 3\u001b[0;31m \u001b[0mimages\u001b[0m \u001b[0;34m=\u001b[0m \u001b[0;34m[\u001b[0m\u001b[0mf\u001b[0m \u001b[0;32mfor\u001b[0m \u001b[0mf\u001b[0m \u001b[0;32min\u001b[0m \u001b[0mlistdir\u001b[0m\u001b[0;34m(\u001b[0m\u001b[0mout_path\u001b[0m\u001b[0;34m)\u001b[0m \u001b[0;32mif\u001b[0m \u001b[0misfile\u001b[0m\u001b[0;34m(\u001b[0m\u001b[0mjoin\u001b[0m\u001b[0;34m(\u001b[0m\u001b[0mout_path\u001b[0m\u001b[0;34m,\u001b[0m \u001b[0mf\u001b[0m\u001b[0;34m)\u001b[0m\u001b[0;34m)\u001b[0m \u001b[0;32mand\u001b[0m \u001b[0mf\u001b[0m\u001b[0;34m.\u001b[0m\u001b[0mendswith\u001b[0m\u001b[0;34m(\u001b[0m\u001b[0;34m'.tif'\u001b[0m\u001b[0;34m)\u001b[0m\u001b[0;34m]\u001b[0m\u001b[0;34m\u001b[0m\u001b[0;34m\u001b[0m\u001b[0m\n\u001b[0m\u001b[1;32m      4\u001b[0m \u001b[0;34m\u001b[0m\u001b[0m\n\u001b[1;32m      5\u001b[0m \u001b[0mfig\u001b[0m \u001b[0;34m=\u001b[0m \u001b[0mplt\u001b[0m\u001b[0;34m.\u001b[0m\u001b[0mfigure\u001b[0m\u001b[0;34m(\u001b[0m\u001b[0mfigsize\u001b[0m \u001b[0;34m=\u001b[0m \u001b[0;34m(\u001b[0m\u001b[0;36m10\u001b[0m\u001b[0;34m,\u001b[0m\u001b[0;36m4\u001b[0m\u001b[0;34m)\u001b[0m\u001b[0;34m)\u001b[0m\u001b[0;34m\u001b[0m\u001b[0;34m\u001b[0m\u001b[0m\n",
      "\u001b[0;31mNameError\u001b[0m: name 'listdir' is not defined"
     ]
    }
   ],
   "source": [
    "# Visualize some images\n",
    "out_path = \"../data/nofire\"\n",
    "images = [f for f in listdir(out_path) if isfile(join(out_path, f)) and f.endswith('.tif')]\n",
    "\n",
    "fig = plt.figure(figsize = (10,4))\n",
    "\n",
    "for i in range(10):\n",
    "    idx = random.randint(0, len(images))\n",
    "    plt.subplot(2,5,i+1)\n",
    "    src = rasterio.open(os.path.join(out_path, images[idx]))\n",
    "    plt.imshow(src.read(1), cmap = cm.RdYlGn)\n",
    "    plt.axis('off')\n",
    "\n",
    "fig.tight_layout()\n",
    "cax = plt.axes([1.0, 0.1, 0.03, 0.8])\n",
    "plt.colorbar(cax=cax)\n",
    "plt.show()"
   ]
  },
  {
   "cell_type": "markdown",
   "metadata": {},
   "source": [
    "### Split into Train and Val Folders"
   ]
  },
  {
   "cell_type": "code",
   "execution_count": 12,
   "metadata": {},
   "outputs": [
    {
     "name": "stderr",
     "output_type": "stream",
     "text": [
      "Copying files: 0 files [00:00, ? files/s]\n"
     ]
    }
   ],
   "source": [
    "import splitfolders\n",
    "splitfolders.ratio(\"../data/input_data\", output=\"../data/processed_data\", seed=1337, ratio=(.8, .2), group_prefix=None) # default values"
   ]
  },
  {
   "cell_type": "markdown",
   "metadata": {},
   "source": [
    "# Combine Images based on Time (3 months)"
   ]
  },
  {
   "cell_type": "code",
   "execution_count": null,
   "metadata": {},
   "outputs": [],
   "source": [
    "out_path = \"../data/3months_fire\"\n",
    "\n",
    "for i in range(len(points_fire)):\n",
    "# for i in range(1):\n",
    "\n",
    "    # get fire date\n",
    "    fire_date = points_fire['IgntDate'].iloc[i]\n",
    "    fire_date = datetime.strptime(fire_date, \"%Y-%m-%d\").date()\n",
    "#     print(fire_date)\n",
    "    \n",
    "    dates_list = []\n",
    "    \n",
    "    # get closest map to fire date\n",
    "    nearest_date = dates[:bisect_left(dates, fire_date)][-1]\n",
    "    nearest_date_str = nearest_date.strftime('%Y-%m-%d')\n",
    "    dates_list.append(nearest_date_str)\n",
    "    \n",
    "    # get 1 month before\n",
    "    dates_list.append((nearest_date + relativedelta(months = -1)).strftime('%Y-%m-%d'))\n",
    "    dates_list.append((nearest_date + relativedelta(months = -2)).strftime('%Y-%m-%d'))\n",
    "    \n",
    "    image_array = np.zeros((3,32,32), dtype = np.uint16)\n",
    "    print(' Tile {} out of {}'.format(i, len(points_fire)))\n",
    "    \n",
    "    for d in range(len(dates_list)):\n",
    "        # get file corresponding to nearest date\n",
    "        file = \"lfmc_map_{}.tif\".format(dates_list[d])\n",
    "\n",
    "        # Input raster\n",
    "        fp = os.path.join(path, file)\n",
    "        \n",
    "        if not os.path.isfile(fp):\n",
    "            print('skip ', fp)\n",
    "            continue\n",
    "\n",
    "        # Read the data\n",
    "        data = rasterio.open(fp)\n",
    "\n",
    "        # Crop image to have coordinate in center\n",
    "        x_center = points_fire['geometry'].iloc[i].x\n",
    "        y_center = points_fire['geometry'].iloc[i].y\n",
    "\n",
    "        transformer = Transformer.from_crs(\"epsg:3857\", \"epsg:4326\")\n",
    "        x_center, y_center = transformer.transform(x_center,y_center)\n",
    "\n",
    "        xmin = x_center - 16 * data.transform[4] # pixel size\n",
    "        xmax = x_center + 15 * data.transform[4]\n",
    "        ymin = y_center - 16 * (-data.transform[0])\n",
    "        ymax = y_center + 15 * (-data.transform[0])\n",
    "\n",
    "        # create bounding box\n",
    "        bbox = box(ymin, xmin, ymax, xmax)\n",
    "        geo = gpd.GeoDataFrame({'geometry': bbox}, index=[0], crs=from_epsg(4326))\n",
    "        geo = geo.to_crs(crs = data.crs.data)\n",
    "\n",
    "        coords = getFeatures(geo)\n",
    "\n",
    "        # Save cropped image\n",
    "        out_png = os.path.join(out_path, 'fire_{}.png'.format(i))\n",
    "#         print(out_tif)\n",
    "\n",
    "        # Clip the raster with Polygon\n",
    "        out_img, out_transform = mask(dataset=data, shapes=coords, crop=True)\n",
    "        image_array[d,:,:] = out_img\n",
    "\n",
    "    # copy the metadata\n",
    "    out_meta = data.meta.copy()\n",
    "    epsg_code = int(data.crs.data['init'][5:])\n",
    "    out_meta.update({\"driver\": \"PNG\",\n",
    "                     \"height\": out_img.shape[1],\n",
    "                     \"width\": out_img.shape[2],\n",
    "                     \"transform\": out_transform,\n",
    "                     \"dtype\": 'uint16',\n",
    "                     \"count\": 3, # 3 bands\n",
    "                     \"crs\": pycrs.parse.from_epsg_code(epsg_code).to_proj4()})\n",
    "\n",
    "    with rasterio.open(out_png, \"w\", **out_meta) as dest:\n",
    "        dest.write(image_array)\n",
    "        "
   ]
  },
  {
   "cell_type": "code",
   "execution_count": 14,
   "metadata": {},
   "outputs": [
    {
     "data": {
      "image/png": "[encoded data removed]",
      "text/plain": [
       "<Figure size 720x288 with 11 Axes>"
      ]
     },
     "metadata": {
      "needs_background": "light"
     },
     "output_type": "display_data"
    }
   ],
   "source": [
    "# Visualize some images\n",
    "out_path = \"../data/3months_fire\"\n",
    "images = [f for f in listdir(out_path) if isfile(join(out_path, f)) and f.endswith('.png')]\n",
    "\n",
    "fig = plt.figure(figsize = (10,4))\n",
    "\n",
    "for i in range(10):\n",
    "    idx = random.randint(0, len(images))\n",
    "    plt.subplot(2,5,i+1)\n",
    "    src = rasterio.open(os.path.join(out_path, images[i]))\n",
    "    plt.imshow(src.read(1), cmap = cm.RdYlGn)\n",
    "    plt.axis('off')\n",
    "\n",
    "# plt.subplots_adjust(bottom=0.1, right=0.5, top=0.6)\n",
    "fig.tight_layout()\n",
    "cax = plt.axes([1.0, 0.1, 0.03, 0.8])\n",
    "plt.colorbar(cax=cax)\n",
    "plt.show()"
   ]
  },
  {
   "cell_type": "code",
   "execution_count": 15,
   "metadata": {},
   "outputs": [
    {
     "data": {
      "image/png": "[encoded data removed]",
      "text/plain": [
       "<Figure size 720x288 with 11 Axes>"
      ]
     },
     "metadata": {
      "needs_background": "light"
     },
     "output_type": "display_data"
    }
   ],
   "source": [
    "# Visualize some images\n",
    "out_path = \"../data/3months_fire\"\n",
    "images = [f for f in listdir(out_path) if isfile(join(out_path, f)) and f.endswith('.png')]\n",
    "\n",
    "fig = plt.figure(figsize = (10,4))\n",
    "\n",
    "for i in range(10):\n",
    "    idx = random.randint(0, len(images))\n",
    "    plt.subplot(2,5,i+1)\n",
    "    src = rasterio.open(os.path.join(out_path, images[i]))\n",
    "    plt.imshow(src.read(3), cmap = cm.RdYlGn)\n",
    "    plt.axis('off')\n",
    "\n",
    "# plt.subplots_adjust(bottom=0.1, right=0.5, top=0.6)\n",
    "fig.tight_layout()\n",
    "cax = plt.axes([1.0, 0.1, 0.03, 0.8])\n",
    "plt.colorbar(cax=cax)\n",
    "plt.show()"
   ]
  },
  {
   "cell_type": "code",
   "execution_count": null,
   "metadata": {},
   "outputs": [],
   "source": [
    "out_path = \"../data/3months_nofire\"\n",
    "\n",
    "# for i in range(len(points_fire)):\n",
    "for i in range(800):\n",
    "    \n",
    "    # get fire date\n",
    "    idx = random.randint(0, len(points_fire)-1)\n",
    "    fire_date = points_fire['IgntDate'].iloc[idx]\n",
    "    fire_date = datetime.strptime(fire_date, \"%Y-%m-%d\").date()\n",
    "    \n",
    "    # get range not within 1 year of fire (6 months before and 6 months after)\n",
    "    prev_6 = fire_date + relativedelta(months = -6)\n",
    "    next_6 = fire_date + relativedelta(months = +6)\n",
    "    date_range = dates[:bisect_left(dates, prev_6)]\n",
    "    date_range.extend(dates[bisect_right(dates, next_6):])\n",
    "    \n",
    "    # get random date in date_range\n",
    "    rnd_ind = random.randint(0, len(date_range)-1)\n",
    "    chosen_date = date_range[rnd_ind].strftime('%Y-%m-%d')\n",
    "    \n",
    "    dates_list = []\n",
    "    dates_list.append(chosen_date)\n",
    "    \n",
    "    # get 1 month before\n",
    "    dates_list.append((date_range[rnd_ind] + relativedelta(months = -1)).strftime('%Y-%m-%d'))\n",
    "    dates_list.append((date_range[rnd_ind] + relativedelta(months = -2)).strftime('%Y-%m-%d'))\n",
    "    \n",
    "    image_array = np.zeros((3,32,32), dtype = np.uint16)\n",
    "    print(' Tile {} out of {}'.format(i, 800))\n",
    "    \n",
    "    for d in range(len(dates_list)):\n",
    "        # get file corresponding to nearest date\n",
    "        file = \"lfmc_map_{}.tif\".format(dates_list[d])\n",
    "\n",
    "        # Input raster\n",
    "        fp = os.path.join(path, file)\n",
    "        \n",
    "        if not os.path.isfile(fp):\n",
    "            print('skip ', fp)\n",
    "            continue\n",
    "\n",
    "        # Read the data\n",
    "        data = rasterio.open(fp)\n",
    "\n",
    "        # Crop image to have coordinate in center\n",
    "        x_center = points_fire['geometry'].iloc[idx].x\n",
    "        y_center = points_fire['geometry'].iloc[idx].y\n",
    "\n",
    "        transformer = Transformer.from_crs(\"epsg:3857\", \"epsg:4326\")\n",
    "        x_center, y_center = transformer.transform(x_center,y_center)\n",
    "\n",
    "        xmin = x_center - 16 * data.transform[4] # pixel size\n",
    "        xmax = x_center + 15 * data.transform[4]\n",
    "        ymin = y_center - 16 * (-data.transform[0])\n",
    "        ymax = y_center + 15 * (-data.transform[0])\n",
    "\n",
    "        # create bounding box\n",
    "        bbox = box(ymin, xmin, ymax, xmax)\n",
    "        geo = gpd.GeoDataFrame({'geometry': bbox}, index=[0], crs=from_epsg(4326))\n",
    "        geo = geo.to_crs(crs = data.crs.data)\n",
    "\n",
    "        coords = getFeatures(geo)\n",
    "\n",
    "        # Save cropped image\n",
    "        out_tif = os.path.join(out_path, 'nofire_{}.png'.format(i))\n",
    "#         print(out_tif)\n",
    "\n",
    "        # Clip the raster with Polygon\n",
    "        out_img, out_transform = mask(dataset=data, shapes=coords, crop=True)\n",
    "        image_array[d, :, :] = out_img\n",
    "\n",
    "    # copy the metadata\n",
    "    out_meta = data.meta.copy()\n",
    "    epsg_code = int(data.crs.data['init'][5:])\n",
    "    out_meta.update({\"driver\": \"PNG\",\n",
    "                     \"height\": out_img.shape[1],\n",
    "                     \"width\": out_img.shape[2],\n",
    "                     \"transform\": out_transform,\n",
    "                     \"dtype\": 'uint16',\n",
    "                     \"count\": 3, \n",
    "                     \"crs\": pycrs.parse.from_epsg_code(epsg_code).to_proj4()})\n",
    "    \n",
    "    with rasterio.open(out_tif, \"w\", **out_meta) as dest:\n",
    "        dest.write(image_array)"
   ]
  },
  {
   "cell_type": "code",
   "execution_count": null,
   "metadata": {},
   "outputs": [],
   "source": [
    "# For non-fire points\n",
    "out_path = \"../data/3months_nofire\"\n",
    "\n",
    "# for i in range(len(points_fire)):\n",
    "for i in range(801,1601):\n",
    "    \n",
    "    # get fire date\n",
    "    idx = random.randint(0, len(points_nofire)-1)\n",
    "    fire_date = points_fire['IgntDate'].iloc[idx]\n",
    "    fire_date = datetime.strptime(fire_date, \"%Y-%m-%d\").date()\n",
    "    \n",
    "    # get range not within 1 year of fire (6 months before and 6 months after)\n",
    "    prev_6 = fire_date + relativedelta(months = -6)\n",
    "    next_6 = fire_date + relativedelta(months = +6)\n",
    "    date_range = dates[:bisect_left(dates, prev_6)]\n",
    "    date_range.extend(dates[bisect_right(dates, next_6):])\n",
    "    \n",
    "    # get random date in date_range\n",
    "    rnd_ind = random.randint(0, len(date_range)-1)\n",
    "    chosen_date = date_range[rnd_ind].strftime('%Y-%m-%d')\n",
    "    \n",
    "    dates_list = []\n",
    "    dates_list.append(chosen_date)\n",
    "    \n",
    "    # get 1 month before\n",
    "    dates_list.append((date_range[rnd_ind] + relativedelta(months = -1)).strftime('%Y-%m-%d'))\n",
    "    dates_list.append((date_range[rnd_ind] + relativedelta(months = -2)).strftime('%Y-%m-%d'))\n",
    "    \n",
    "    image_array = np.zeros((3,32,32), dtype = np.uint16)\n",
    "    print(' Tile {} out of {}'.format(i, 800))\n",
    "    \n",
    "    for d in range(len(dates_list)):\n",
    "    \n",
    "        # get file corresponding to nearest date\n",
    "        file = \"lfmc_map_{}.tif\".format(dates_list[d])\n",
    "\n",
    "        # Input raster\n",
    "        fp = os.path.join(path, file)\n",
    "        \n",
    "        if not os.path.isfile(fp):\n",
    "            print('skip ', fp)\n",
    "            continue\n",
    "\n",
    "        # Read the data\n",
    "        data = rasterio.open(fp)\n",
    "\n",
    "        # Crop image to have coordinate in center\n",
    "        x_center = points_fire['geometry'].iloc[idx].x\n",
    "        y_center = points_fire['geometry'].iloc[idx].y\n",
    "\n",
    "        transformer = Transformer.from_crs(\"epsg:3857\", \"epsg:4326\")\n",
    "        x_center, y_center = transformer.transform(x_center,y_center)\n",
    "\n",
    "        xmin = x_center - 16 * data.transform[4] # pixel size\n",
    "        xmax = x_center + 15 * data.transform[4]\n",
    "        ymin = y_center - 16 * (-data.transform[0])\n",
    "        ymax = y_center + 15 * (-data.transform[0])\n",
    "\n",
    "        # create bounding box\n",
    "        bbox = box(ymin, xmin, ymax, xmax)\n",
    "        geo = gpd.GeoDataFrame({'geometry': bbox}, index=[0], crs=from_epsg(4326))\n",
    "        geo = geo.to_crs(crs = data.crs.data)\n",
    "\n",
    "        coords = getFeatures(geo)\n",
    "\n",
    "        # Save cropped image\n",
    "        out_tif = os.path.join(out_path, 'nofire_{}.png'.format(i))\n",
    "#         print(out_tif)\n",
    "\n",
    "        # Clip the raster with Polygon\n",
    "        out_img, out_transform = mask(dataset=data, shapes=coords, crop=True)\n",
    "        image_array[d, :, :] = out_img\n",
    "\n",
    "    # copy the metadata\n",
    "    out_meta = data.meta.copy()\n",
    "    epsg_code = int(data.crs.data['init'][5:])\n",
    "    out_meta.update({\"driver\": \"PNG\",\n",
    "                     \"height\": out_img.shape[1],\n",
    "                     \"width\": out_img.shape[2],\n",
    "                     \"transform\": out_transform,\n",
    "                     \"dtype\": 'uint16',\n",
    "                     \"count\": 3, \n",
    "                     \"crs\": pycrs.parse.from_epsg_code(epsg_code).to_proj4()})\n",
    "    \n",
    "    with rasterio.open(out_tif, \"w\", **out_meta) as dest:\n",
    "        dest.write(image_array)"
   ]
  },
  {
   "cell_type": "code",
   "execution_count": 18,
   "metadata": {},
   "outputs": [
    {
     "data": {
      "image/png": "[encoded data removed]",
      "text/plain": [
       "<Figure size 720x288 with 11 Axes>"
      ]
     },
     "metadata": {
      "needs_background": "light"
     },
     "output_type": "display_data"
    }
   ],
   "source": [
    "# Visualize some images\n",
    "out_path = \"../data/3months_nofire\"\n",
    "images = [f for f in listdir(out_path) if isfile(join(out_path, f)) and f.endswith('.png')]\n",
    "\n",
    "fig = plt.figure(figsize = (10,4))\n",
    "\n",
    "for i in range(10):\n",
    "#     idx = random.randint(0, len(images))\n",
    "    idx = i + 50\n",
    "    plt.subplot(2,5,i+1)\n",
    "    src = rasterio.open(os.path.join(out_path, images[idx]))\n",
    "    plt.imshow(src.read(3), cmap = cm.RdYlGn)\n",
    "    plt.axis('off')\n",
    "\n",
    "fig.tight_layout()\n",
    "cax = plt.axes([1.0, 0.1, 0.03, 0.8])\n",
    "plt.colorbar(cax=cax)\n",
    "plt.show()"
   ]
  },
  {
   "cell_type": "code",
   "execution_count": 19,
   "metadata": {},
   "outputs": [
    {
     "data": {
      "image/png": "[encoded data removed]",
      "text/plain": [
       "<Figure size 720x288 with 11 Axes>"
      ]
     },
     "metadata": {
      "needs_background": "light"
     },
     "output_type": "display_data"
    }
   ],
   "source": [
    "# Visualize some images\n",
    "out_path = \"../data/3months_nofire\"\n",
    "images = [f for f in listdir(out_path) if isfile(join(out_path, f)) and f.endswith('.png')]\n",
    "\n",
    "fig = plt.figure(figsize = (10,4))\n",
    "\n",
    "for i in range(10):\n",
    "#     idx = random.randint(0, len(images))\n",
    "    idx = i + 50\n",
    "    plt.subplot(2,5,i+1)\n",
    "    src = rasterio.open(os.path.join(out_path, images[idx]))\n",
    "    plt.imshow(src.read(1), cmap = cm.RdYlGn)\n",
    "    plt.axis('off')\n",
    "\n",
    "fig.tight_layout()\n",
    "cax = plt.axes([1.0, 0.1, 0.03, 0.8])\n",
    "plt.colorbar(cax=cax)\n",
    "plt.show()"
   ]
  },
  {
   "cell_type": "code",
   "execution_count": 21,
   "metadata": {},
   "outputs": [
    {
     "name": "stderr",
     "output_type": "stream",
     "text": [
      "Copying files: 0 files [00:00, ? files/s]\n"
     ]
    }
   ],
   "source": [
    "import splitfolders\n",
    "splitfolders.ratio(\"../data/3months_png\", output=\"../data/processed_3months_data\", seed=1337, ratio=(.8, .2), group_prefix=None) # default values"
   ]
  },
  {
   "cell_type": "code",
   "execution_count": null,
   "metadata": {},
   "outputs": [],
   "source": []
  }
 ],
 "metadata": {
  "kernelspec": {
   "display_name": "Python 3 (ipykernel)",
   "language": "python",
   "name": "python3"
  },
  "language_info": {
   "codemirror_mode": {
    "name": "ipython",
    "version": 3
   },
   "file_extension": ".py",
   "mimetype": "text/x-python",
   "name": "python",
   "nbconvert_exporter": "python",
   "pygments_lexer": "ipython3",
   "version": "3.9.7"
  }
 },
 "nbformat": 4,
 "nbformat_minor": 4
}
