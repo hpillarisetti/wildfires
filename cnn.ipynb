{
 "cells": [
  {
   "cell_type": "markdown",
   "metadata": {
    "id": "QGmfctM3hz2n"
   },
   "source": [
    "# Transfer Learning"
   ]
  },
  {
   "cell_type": "code",
   "execution_count": 1,
   "metadata": {
    "colab": {
     "base_uri": "https://localhost:8080/"
    },
    "executionInfo": {
     "elapsed": 19868,
     "status": "ok",
     "timestamp": 1622576811974,
     "user": {
      "displayName": "Irene Alisjahbana",
      "photoUrl": "https://lh3.googleusercontent.com/a-/AOh14GhN8Nq0iyC45Ts258I3DP4AvW1n4IBXa6NTXxwg1g=s64",
      "userId": "06416494235642270824"
     },
     "user_tz": 420
    },
    "id": "G3uJVehViIVJ",
    "outputId": "4aea3c69-f12c-445e-8325-f9e8d91fbb49"
   },
   "outputs": [
    {
     "name": "stdout",
     "output_type": "stream",
     "text": [
      "Mounted at /content/drive\n"
     ]
    }
   ],
   "source": [
    "#from google.colab import drive\n",
    "#drive.mount('/content/drive')"
   ]
  },
  {
   "cell_type": "code",
   "execution_count": 1,
   "metadata": {
    "executionInfo": {
     "elapsed": 4232,
     "status": "ok",
     "timestamp": 1622576816173,
     "user": {
      "displayName": "Irene Alisjahbana",
      "photoUrl": "https://lh3.googleusercontent.com/a-/AOh14GhN8Nq0iyC45Ts258I3DP4AvW1n4IBXa6NTXxwg1g=s64",
      "userId": "06416494235642270824"
     },
     "user_tz": 420
    },
    "id": "Etf7fBlkh05D"
   },
   "outputs": [],
   "source": [
    "from __future__ import print_function, division\n",
    "import torch\n",
    "import torch.nn as nn\n",
    "import torch.optim as optim\n",
    "from torch.optim import lr_scheduler\n",
    "import numpy as np\n",
    "import torchvision\n",
    "from torchvision import datasets, models, transforms\n",
    "import matplotlib.pyplot as plt\n",
    "import time\n",
    "import os\n",
    "import copy"
   ]
  },
  {
   "cell_type": "code",
   "execution_count": 2,
   "metadata": {
    "executionInfo": {
     "elapsed": 5,
     "status": "ok",
     "timestamp": 1622576816175,
     "user": {
      "displayName": "Irene Alisjahbana",
      "photoUrl": "https://lh3.googleusercontent.com/a-/AOh14GhN8Nq0iyC45Ts258I3DP4AvW1n4IBXa6NTXxwg1g=s64",
      "userId": "06416494235642270824"
     },
     "user_tz": 420
    },
    "id": "W7dMsDF-lAx6"
   },
   "outputs": [],
   "source": [
    "def train_model(model, criterion, optimizer, scheduler, num_epochs=25):\n",
    "    since = time.time()\n",
    "\n",
    "    best_model_wts = copy.deepcopy(model.state_dict())\n",
    "    best_acc = 0.0\n",
    "\n",
    "    for epoch in range(num_epochs):\n",
    "        print('Epoch {}/{}'.format(epoch, num_epochs - 1))\n",
    "        print('-' * 10)\n",
    "\n",
    "        # Each epoch has a training and validation phase\n",
    "        for phase in ['train', 'val']:\n",
    "            if phase == 'train':\n",
    "                model.train()  # Set model to training mode\n",
    "            else:\n",
    "                model.eval()   # Set model to evaluate mode\n",
    "\n",
    "            running_loss = 0.0\n",
    "            running_corrects = 0\n",
    "\n",
    "            # Iterate over data.\n",
    "            for inputs, labels in dataloaders[phase]:\n",
    "                inputs = inputs.to(device)\n",
    "                labels = labels.to(device)\n",
    "\n",
    "                # zero the parameter gradients\n",
    "                optimizer.zero_grad()\n",
    "\n",
    "                # forward\n",
    "                # track history if only in train\n",
    "                with torch.set_grad_enabled(phase == 'train'):\n",
    "                    outputs = model(inputs)\n",
    "                    _, preds = torch.max(outputs, 1)\n",
    "                    loss = criterion(outputs, labels)\n",
    "\n",
    "                    # backward + optimize only if in training phase\n",
    "                    if phase == 'train':\n",
    "                        loss.backward()\n",
    "                        optimizer.step()\n",
    "\n",
    "                # statistics\n",
    "                running_loss += loss.item() * inputs.size(0)\n",
    "                running_corrects += torch.sum(preds == labels.data)\n",
    "            if phase == 'train':\n",
    "                scheduler.step()\n",
    "\n",
    "            epoch_loss = running_loss / dataset_sizes[phase]\n",
    "            epoch_acc = running_corrects.double() / dataset_sizes[phase]\n",
    "\n",
    "            print('{} Loss: {:.4f} Acc: {:.4f}'.format(\n",
    "                phase, epoch_loss, epoch_acc))\n",
    "\n",
    "            # deep copy the model\n",
    "            if phase == 'val' and epoch_acc > best_acc:\n",
    "                best_acc = epoch_acc\n",
    "                best_model_wts = copy.deepcopy(model.state_dict())\n",
    "\n",
    "        print()\n",
    "\n",
    "    time_elapsed = time.time() - since\n",
    "    print('Training complete in {:.0f}m {:.0f}s'.format(\n",
    "        time_elapsed // 60, time_elapsed % 60))\n",
    "    print('Best val Acc: {:4f}'.format(best_acc))\n",
    "\n",
    "    # load best model weights\n",
    "    model.load_state_dict(best_model_wts)\n",
    "    return model"
   ]
  },
  {
   "cell_type": "code",
   "execution_count": 3,
   "metadata": {
    "executionInfo": {
     "elapsed": 5,
     "status": "ok",
     "timestamp": 1622576816176,
     "user": {
      "displayName": "Irene Alisjahbana",
      "photoUrl": "https://lh3.googleusercontent.com/a-/AOh14GhN8Nq0iyC45Ts258I3DP4AvW1n4IBXa6NTXxwg1g=s64",
      "userId": "06416494235642270824"
     },
     "user_tz": 420
    },
    "id": "XheutPUQoljf"
   },
   "outputs": [],
   "source": [
    "def visualize_model(model, num_images=6):\n",
    "    was_training = model.training\n",
    "    model.eval()\n",
    "    images_so_far = 0\n",
    "    fig = plt.figure()\n",
    "\n",
    "    with torch.no_grad():\n",
    "        for i, (inputs, labels) in enumerate(dataloaders['val']):\n",
    "            inputs = inputs.to(device)\n",
    "            labels = labels.to(device)\n",
    "\n",
    "            outputs = model(inputs)\n",
    "            _, preds = torch.max(outputs, 1)\n",
    "\n",
    "            for j in range(inputs.size()[0]):\n",
    "                images_so_far += 1\n",
    "                ax = plt.subplot(num_images//2, 2, images_so_far)\n",
    "                ax.axis('off')\n",
    "                ax.set_title('predicted: {}'.format(class_names[preds[j]]))\n",
    "                imshow(inputs.cpu().data[j])\n",
    "\n",
    "                if images_so_far == num_images:\n",
    "                    model.train(mode=was_training)\n",
    "                    return\n",
    "        model.train(mode=was_training)"
   ]
  },
  {
   "cell_type": "code",
   "execution_count": 4,
   "metadata": {
    "id": "i3YMcxCeh7B5"
   },
   "outputs": [],
   "source": [
    "# Data augmentation and normalization for training\n",
    "# Just normalization for validation\n",
    "data_transforms = {\n",
    "    'train': transforms.Compose([transforms.Grayscale(3),\n",
    "                                 transforms.ToTensor(),\n",
    "        transforms.Normalize([0.485, 0.456, 0.406], [0.229, 0.224, 0.225])\n",
    "    ]),\n",
    "    'val': transforms.Compose([transforms.Grayscale(3),\n",
    "                               transforms.ToTensor(),\n",
    "        transforms.Normalize([0.485, 0.456, 0.406], [0.229, 0.224, 0.225])\n",
    "    ]),\n",
    "}\n",
    "\n",
    "data_dir = \"../data/processed_data\"\n",
    "image_datasets = {x: datasets.ImageFolder(os.path.join(data_dir, x),\n",
    "                                          data_transforms[x])\n",
    "                  for x in ['train', 'val']}\n",
    "dataloaders = {x: torch.utils.data.DataLoader(image_datasets[x], batch_size=4,\n",
    "                                             shuffle=True, num_workers=2)\n",
    "              for x in ['train', 'val']}\n",
    "dataset_sizes = {x: len(image_datasets[x]) for x in ['train', 'val']}\n",
    "class_names = image_datasets['train'].classes\n",
    "\n",
    "device = torch.device(\"cuda:0\" if torch.cuda.is_available() else \"cpu\")"
   ]
  },
  {
   "cell_type": "code",
   "execution_count": 5,
   "metadata": {
    "colab": {
     "base_uri": "https://localhost:8080/"
    },
    "executionInfo": {
     "elapsed": 569,
     "status": "ok",
     "timestamp": 1620321915507,
     "user": {
      "displayName": "Irene Alisjahbana",
      "photoUrl": "https://lh3.googleusercontent.com/a-/AOh14GhN8Nq0iyC45Ts258I3DP4AvW1n4IBXa6NTXxwg1g=s64",
      "userId": "06416494235642270824"
     },
     "user_tz": 420
    },
    "id": "akqXLk-AqTbm",
    "outputId": "f17560bf-1968-46ef-d194-05c330942561"
   },
   "outputs": [
    {
     "name": "stdout",
     "output_type": "stream",
     "text": [
      "torch.Size([4, 3, 32, 32])\n",
      "torch.Size([4])\n"
     ]
    }
   ],
   "source": [
    "dataiter = iter(dataloaders['train'])\n",
    "images, labels = dataiter.next()\n",
    "\n",
    "print(images.shape)\n",
    "print(labels.shape)"
   ]
  },
  {
   "cell_type": "code",
   "execution_count": 6,
   "metadata": {
    "id": "H9ooIHa9o_au"
   },
   "outputs": [
    {
     "name": "stderr",
     "output_type": "stream",
     "text": [
      "Downloading: \"https://download.pytorch.org/models/resnet18-f37072fd.pth\" to /Users/vpillari/.cache/torch/hub/checkpoints/resnet18-f37072fd.pth\n"
     ]
    },
    {
     "data": {
      "application/vnd.jupyter.widget-view+json": {
       "model_id": "1d297f5307064118ac61d20a2b7c621e",
       "version_major": 2,
       "version_minor": 0
      },
      "text/plain": [
       "  0%|          | 0.00/44.7M [00:00<?, ?B/s]"
      ]
     },
     "metadata": {},
     "output_type": "display_data"
    }
   ],
   "source": [
    "model_ft = models.resnet18(pretrained=True)\n",
    "num_ftrs = model_ft.fc.in_features\n",
    "# Here the size of each output sample is set to 2.\n",
    "# Alternatively, it can be generalized to nn.Linear(num_ftrs, len(class_names)).\n",
    "model_ft.fc = nn.Linear(num_ftrs, 2)\n",
    "\n",
    "model_ft = model_ft.to(device)\n",
    "\n",
    "criterion = nn.CrossEntropyLoss()\n",
    "\n",
    "# Observe that all parameters are being optimized\n",
    "optimizer_ft = optim.SGD(model_ft.parameters(), lr=0.001, momentum=0.9)\n",
    "\n",
    "# Decay LR by a factor of 0.1 every 7 epochs\n",
    "exp_lr_scheduler = lr_scheduler.StepLR(optimizer_ft, step_size=7, gamma=0.1)"
   ]
  },
  {
   "cell_type": "code",
   "execution_count": 7,
   "metadata": {
    "colab": {
     "base_uri": "https://localhost:8080/"
    },
    "executionInfo": {
     "elapsed": 540022,
     "status": "ok",
     "timestamp": 1620322457668,
     "user": {
      "displayName": "Irene Alisjahbana",
      "photoUrl": "https://lh3.googleusercontent.com/a-/AOh14GhN8Nq0iyC45Ts258I3DP4AvW1n4IBXa6NTXxwg1g=s64",
      "userId": "06416494235642270824"
     },
     "user_tz": 420
    },
    "id": "ePpvklAXpLC4",
    "outputId": "c53cf66b-1b94-486d-a7f2-4e25f922e12c"
   },
   "outputs": [
    {
     "name": "stdout",
     "output_type": "stream",
     "text": [
      "Epoch 0/24\n",
      "----------\n",
      "train Loss: 1.0432 Acc: 0.5262\n",
      "val Loss: 0.8842 Acc: 0.5156\n",
      "\n",
      "Epoch 1/24\n",
      "----------\n",
      "train Loss: 1.0361 Acc: 0.5248\n",
      "val Loss: 1.6146 Acc: 0.5467\n",
      "\n",
      "Epoch 2/24\n",
      "----------\n",
      "train Loss: 1.1080 Acc: 0.5209\n",
      "val Loss: 0.9953 Acc: 0.5680\n",
      "\n",
      "Epoch 3/24\n",
      "----------\n",
      "train Loss: 0.9772 Acc: 0.5273\n",
      "val Loss: 0.6530 Acc: 0.6076\n",
      "\n",
      "Epoch 4/24\n",
      "----------\n",
      "train Loss: 1.0197 Acc: 0.5333\n",
      "val Loss: 1.3415 Acc: 0.4759\n",
      "\n",
      "Epoch 5/24\n",
      "----------\n",
      "train Loss: 1.0838 Acc: 0.5206\n",
      "val Loss: 1.2134 Acc: 0.4490\n",
      "\n",
      "Epoch 6/24\n",
      "----------\n",
      "train Loss: 0.9878 Acc: 0.5262\n",
      "val Loss: 1.1854 Acc: 0.5652\n",
      "\n",
      "Epoch 7/24\n",
      "----------\n",
      "train Loss: 0.7160 Acc: 0.5617\n",
      "val Loss: 0.6564 Acc: 0.5864\n",
      "\n",
      "Epoch 8/24\n",
      "----------\n",
      "train Loss: 0.6921 Acc: 0.5680\n",
      "val Loss: 0.6530 Acc: 0.6303\n",
      "\n",
      "Epoch 9/24\n",
      "----------\n",
      "train Loss: 0.6991 Acc: 0.5634\n",
      "val Loss: 0.6909 Acc: 0.4887\n",
      "\n",
      "Epoch 10/24\n",
      "----------\n",
      "train Loss: 0.6933 Acc: 0.5702\n",
      "val Loss: 0.6628 Acc: 0.6105\n",
      "\n",
      "Epoch 11/24\n",
      "----------\n",
      "train Loss: 0.6881 Acc: 0.5865\n",
      "val Loss: 0.6449 Acc: 0.6303\n",
      "\n",
      "Epoch 12/24\n",
      "----------\n",
      "train Loss: 0.6977 Acc: 0.5687\n",
      "val Loss: 0.6590 Acc: 0.6289\n",
      "\n",
      "Epoch 13/24\n",
      "----------\n",
      "train Loss: 0.6866 Acc: 0.5712\n",
      "val Loss: 0.7007 Acc: 0.4943\n",
      "\n",
      "Epoch 14/24\n",
      "----------\n",
      "train Loss: 0.6699 Acc: 0.6052\n",
      "val Loss: 0.6426 Acc: 0.6261\n",
      "\n",
      "Epoch 15/24\n",
      "----------\n",
      "train Loss: 0.6658 Acc: 0.6028\n",
      "val Loss: 0.6406 Acc: 0.6275\n",
      "\n",
      "Epoch 16/24\n",
      "----------\n",
      "train Loss: 0.6680 Acc: 0.6067\n",
      "val Loss: 0.6547 Acc: 0.6232\n",
      "\n",
      "Epoch 17/24\n",
      "----------\n",
      "train Loss: 0.6682 Acc: 0.6056\n",
      "val Loss: 0.6544 Acc: 0.6190\n",
      "\n",
      "Epoch 18/24\n",
      "----------\n",
      "train Loss: 0.6589 Acc: 0.6173\n",
      "val Loss: 0.6432 Acc: 0.6360\n",
      "\n",
      "Epoch 19/24\n",
      "----------\n",
      "train Loss: 0.6672 Acc: 0.6010\n",
      "val Loss: 0.6463 Acc: 0.6261\n",
      "\n",
      "Epoch 20/24\n",
      "----------\n",
      "train Loss: 0.6685 Acc: 0.6067\n",
      "val Loss: 0.6356 Acc: 0.6431\n",
      "\n",
      "Epoch 21/24\n",
      "----------\n",
      "train Loss: 0.6684 Acc: 0.5982\n",
      "val Loss: 0.6467 Acc: 0.6204\n",
      "\n",
      "Epoch 22/24\n",
      "----------\n",
      "train Loss: 0.6633 Acc: 0.6024\n",
      "val Loss: 0.6477 Acc: 0.6346\n",
      "\n",
      "Epoch 23/24\n",
      "----------\n",
      "train Loss: 0.6690 Acc: 0.6006\n",
      "val Loss: 0.6424 Acc: 0.6261\n",
      "\n",
      "Epoch 24/24\n",
      "----------\n",
      "train Loss: 0.6608 Acc: 0.6077\n",
      "val Loss: 0.6449 Acc: 0.6289\n",
      "\n",
      "Training complete in 35m 14s\n",
      "Best val Acc: 0.643059\n"
     ]
    }
   ],
   "source": [
    "model_ft = train_model(model_ft, criterion, optimizer_ft, exp_lr_scheduler,\n",
    "                       num_epochs=25)"
   ]
  },
  {
   "cell_type": "markdown",
   "metadata": {
    "id": "A7AILI26uvvE"
   },
   "source": [
    "## 3 Images Stacked"
   ]
  },
  {
   "cell_type": "code",
   "execution_count": 9,
   "metadata": {
    "executionInfo": {
     "elapsed": 119,
     "status": "ok",
     "timestamp": 1622578002345,
     "user": {
      "displayName": "Irene Alisjahbana",
      "photoUrl": "https://lh3.googleusercontent.com/a-/AOh14GhN8Nq0iyC45Ts258I3DP4AvW1n4IBXa6NTXxwg1g=s64",
      "userId": "06416494235642270824"
     },
     "user_tz": 420
    },
    "id": "8NWMRSaXC-7R"
   },
   "outputs": [],
   "source": [
    "# Data augmentation and normalization for training\n",
    "# Just normalization for validation\n",
    "data_transforms = {\n",
    "    'train': transforms.Compose([transforms.ToTensor(),\n",
    "        transforms.Normalize([0.485, 0.456, 0.406], [0.229, 0.224, 0.225])\n",
    "    ]),\n",
    "    'val': transforms.Compose([transforms.ToTensor(),\n",
    "        transforms.Normalize([0.485, 0.456, 0.406], [0.229, 0.224, 0.225])\n",
    "    ]),\n",
    "}\n",
    "\n",
    "data_dir = \"../data/processed_3months_data\"\n",
    "image_datasets = {x: datasets.ImageFolder(os.path.join(data_dir, x),\n",
    "                                          data_transforms[x])\n",
    "                  for x in ['train', 'val']}\n",
    "dataloaders = {x: torch.utils.data.DataLoader(image_datasets[x], batch_size=32,\n",
    "                                             shuffle=True, num_workers=2)\n",
    "              for x in ['train', 'val']}\n",
    "dataset_sizes = {x: len(image_datasets[x]) for x in ['train', 'val']}\n",
    "class_names = image_datasets['train'].classes\n",
    "\n",
    "device = torch.device(\"cuda:0\" if torch.cuda.is_available() else \"cpu\")"
   ]
  },
  {
   "cell_type": "code",
   "execution_count": 10,
   "metadata": {
    "colab": {
     "base_uri": "https://localhost:8080/"
    },
    "executionInfo": {
     "elapsed": 346,
     "status": "ok",
     "timestamp": 1622578003607,
     "user": {
      "displayName": "Irene Alisjahbana",
      "photoUrl": "https://lh3.googleusercontent.com/a-/AOh14GhN8Nq0iyC45Ts258I3DP4AvW1n4IBXa6NTXxwg1g=s64",
      "userId": "06416494235642270824"
     },
     "user_tz": 420
    },
    "id": "FJyjL52QDCbw",
    "outputId": "a80d49fd-9c96-4523-f13f-0c10d2a4848e"
   },
   "outputs": [
    {
     "name": "stdout",
     "output_type": "stream",
     "text": [
      "torch.Size([32, 3, 32, 32])\n",
      "torch.Size([32])\n"
     ]
    }
   ],
   "source": [
    "dataiter = iter(dataloaders['train'])\n",
    "images, labels = dataiter.next()\n",
    "\n",
    "print(images.shape)\n",
    "print(labels.shape)"
   ]
  },
  {
   "cell_type": "code",
   "execution_count": 12,
   "metadata": {
    "executionInfo": {
     "elapsed": 789,
     "status": "ok",
     "timestamp": 1622578006400,
     "user": {
      "displayName": "Irene Alisjahbana",
      "photoUrl": "https://lh3.googleusercontent.com/a-/AOh14GhN8Nq0iyC45Ts258I3DP4AvW1n4IBXa6NTXxwg1g=s64",
      "userId": "06416494235642270824"
     },
     "user_tz": 420
    },
    "id": "dOyiFpUAveuM"
   },
   "outputs": [],
   "source": [
    "model_ft = models.resnet18(pretrained=True)\n",
    "num_ftrs = model_ft.fc.in_features\n",
    "# Here the size of each output sample is set to 2.\n",
    "# Alternatively, it can be generalized to nn.Linear(num_ftrs, len(class_names)).\n",
    "model_ft.fc = nn.Linear(num_ftrs, 2)\n",
    "\n",
    "model_ft = model_ft.to(device)\n",
    "\n",
    "criterion = nn.CrossEntropyLoss()\n",
    "\n",
    "# Observe that all parameters are being optimized\n",
    "optimizer_ft = optim.SGD(model_ft.parameters(), lr=0.001, momentum=0.9)\n",
    "\n",
    "# Decay LR by a factor of 0.1 every 7 epochs\n",
    "exp_lr_scheduler = lr_scheduler.StepLR(optimizer_ft, step_size=7, gamma=0.1)"
   ]
  },
  {
   "cell_type": "code",
   "execution_count": 13,
   "metadata": {
    "colab": {
     "base_uri": "https://localhost:8080/"
    },
    "executionInfo": {
     "elapsed": 122399,
     "status": "ok",
     "timestamp": 1622578131151,
     "user": {
      "displayName": "Irene Alisjahbana",
      "photoUrl": "https://lh3.googleusercontent.com/a-/AOh14GhN8Nq0iyC45Ts258I3DP4AvW1n4IBXa6NTXxwg1g=s64",
      "userId": "06416494235642270824"
     },
     "user_tz": 420
    },
    "id": "6IQLavXUvg8f",
    "outputId": "aeb12d00-0335-4d03-b943-c6e450e5223f"
   },
   "outputs": [
    {
     "name": "stdout",
     "output_type": "stream",
     "text": [
      "Epoch 0/24\n",
      "----------\n",
      "train Loss: 0.6891 Acc: 0.5499\n",
      "val Loss: 842891.9277 Acc: 0.5498\n",
      "\n",
      "Epoch 1/24\n",
      "----------\n",
      "train Loss: 0.6895 Acc: 0.5499\n",
      "val Loss: 423262.3800 Acc: 0.5498\n",
      "\n",
      "Epoch 2/24\n",
      "----------\n",
      "train Loss: 0.6902 Acc: 0.5347\n",
      "val Loss: 511395.8376 Acc: 0.5498\n",
      "\n",
      "Epoch 3/24\n",
      "----------\n",
      "train Loss: 0.6914 Acc: 0.5499\n",
      "val Loss: 1173208.3683 Acc: 0.5498\n",
      "\n",
      "Epoch 4/24\n",
      "----------\n",
      "train Loss: 0.6910 Acc: 0.5463\n",
      "val Loss: 590666.1918 Acc: 0.5498\n",
      "\n",
      "Epoch 5/24\n",
      "----------\n",
      "train Loss: 0.6889 Acc: 0.5434\n",
      "val Loss: 65775.0001 Acc: 0.5498\n",
      "\n",
      "Epoch 6/24\n",
      "----------\n",
      "train Loss: 0.6897 Acc: 0.5499\n",
      "val Loss: 1836605.5274 Acc: 0.5498\n",
      "\n",
      "Epoch 7/24\n",
      "----------\n",
      "train Loss: 0.6884 Acc: 0.5499\n",
      "val Loss: 277398.3486 Acc: 0.5498\n",
      "\n",
      "Epoch 8/24\n",
      "----------\n",
      "train Loss: 0.6886 Acc: 0.5499\n",
      "val Loss: 199948.2969 Acc: 0.5498\n",
      "\n",
      "Epoch 9/24\n",
      "----------\n",
      "train Loss: 0.6887 Acc: 0.5499\n",
      "val Loss: 29082.8691 Acc: 0.5498\n",
      "\n",
      "Epoch 10/24\n",
      "----------\n",
      "train Loss: 0.6884 Acc: 0.5499\n",
      "val Loss: 932976.4376 Acc: 0.5498\n",
      "\n",
      "Epoch 11/24\n",
      "----------\n",
      "train Loss: 0.6883 Acc: 0.5499\n",
      "val Loss: 914493.6501 Acc: 0.5498\n",
      "\n",
      "Epoch 12/24\n",
      "----------\n",
      "train Loss: 0.6885 Acc: 0.5499\n",
      "val Loss: 419683.6281 Acc: 0.5498\n",
      "\n",
      "Epoch 13/24\n",
      "----------\n",
      "train Loss: 0.6882 Acc: 0.5499\n",
      "val Loss: 470477.1520 Acc: 0.5498\n",
      "\n",
      "Epoch 14/24\n",
      "----------\n",
      "train Loss: 0.6882 Acc: 0.5499\n",
      "val Loss: 131653.8282 Acc: 0.5498\n",
      "\n",
      "Epoch 15/24\n",
      "----------\n",
      "train Loss: 0.6882 Acc: 0.5499\n",
      "val Loss: 35307.3285 Acc: 0.5498\n",
      "\n",
      "Epoch 16/24\n",
      "----------\n",
      "train Loss: 0.6882 Acc: 0.5499\n",
      "val Loss: 20353.2255 Acc: 0.4502\n",
      "\n",
      "Epoch 17/24\n",
      "----------\n",
      "train Loss: 0.6882 Acc: 0.5499\n",
      "val Loss: 22519.1796 Acc: 0.5498\n",
      "\n",
      "Epoch 18/24\n",
      "----------\n",
      "train Loss: 0.6882 Acc: 0.5499\n",
      "val Loss: 72849.2908 Acc: 0.5498\n",
      "\n",
      "Epoch 19/24\n",
      "----------\n",
      "train Loss: 0.6882 Acc: 0.5499\n",
      "val Loss: 2688.2535 Acc: 0.4502\n",
      "\n",
      "Epoch 20/24\n",
      "----------\n",
      "train Loss: 0.6882 Acc: 0.5499\n",
      "val Loss: 73696.1349 Acc: 0.5498\n",
      "\n",
      "Epoch 21/24\n",
      "----------\n",
      "train Loss: 0.6882 Acc: 0.5499\n",
      "val Loss: 11312.8690 Acc: 0.5498\n",
      "\n",
      "Epoch 22/24\n",
      "----------\n",
      "train Loss: 0.6882 Acc: 0.5499\n",
      "val Loss: 10160.9833 Acc: 0.5498\n",
      "\n",
      "Epoch 23/24\n",
      "----------\n",
      "train Loss: 0.6882 Acc: 0.5499\n",
      "val Loss: 10267.8746 Acc: 0.5498\n",
      "\n",
      "Epoch 24/24\n",
      "----------\n",
      "train Loss: 0.6882 Acc: 0.5499\n",
      "val Loss: 5619.9670 Acc: 0.5498\n",
      "\n",
      "Training complete in 16m 2s\n",
      "Best val Acc: 0.549784\n"
     ]
    }
   ],
   "source": [
    "model_ft = train_model(model_ft, criterion, optimizer_ft, exp_lr_scheduler,\n",
    "                       num_epochs=25)"
   ]
  },
  {
   "cell_type": "code",
   "execution_count": null,
   "metadata": {
    "id": "GV-A8XV-J_ps"
   },
   "outputs": [],
   "source": []
  }
 ],
 "metadata": {
  "accelerator": "GPU",
  "colab": {
   "collapsed_sections": [],
   "name": "CNN classification.ipynb",
   "provenance": [],
   "toc_visible": true
  },
  "kernelspec": {
   "display_name": "Python 3 (ipykernel)",
   "language": "python",
   "name": "python3"
  },
  "language_info": {
   "codemirror_mode": {
    "name": "ipython",
    "version": 3
   },
   "file_extension": ".py",
   "mimetype": "text/x-python",
   "name": "python",
   "nbconvert_exporter": "python",
   "pygments_lexer": "ipython3",
   "version": "3.9.7"
  }
 },
 "nbformat": 4,
 "nbformat_minor": 1
}
